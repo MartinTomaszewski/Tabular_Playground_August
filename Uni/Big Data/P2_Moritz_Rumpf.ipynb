{
 "cells": [
  {
   "cell_type": "markdown",
   "id": "d31397f2-345b-4cb0-8335-a9525e37cc81",
   "metadata": {
    "tags": []
   },
   "source": [
    "# Big Data 1 Praktikum 2"
   ]
  },
  {
   "cell_type": "code",
   "execution_count": 1,
   "id": "6803dcef-8980-4e8d-b12c-7c91e6114dac",
   "metadata": {},
   "outputs": [],
   "source": [
    "from pydrill.client import PyDrill\n",
    "import os\n",
    "import json\n",
    "from pprint import pprint\n",
    "from dotenv import load_dotenv"
   ]
  },
  {
   "cell_type": "markdown",
   "id": "e677845c-11f2-4712-8449-7aca751f06ec",
   "metadata": {
    "tags": []
   },
   "source": [
    "### Connect mit .env\n",
    "Hatte Probleme mit anderer Variante"
   ]
  },
  {
   "cell_type": "code",
   "execution_count": 2,
   "id": "32a1ce34-5531-407f-9165-94d433d3ac44",
   "metadata": {},
   "outputs": [],
   "source": [
    "def connect(drill_host: str = 'earth.bigdata.fh-aachen.de'):\n",
    "    auth_string = os.getenv('DRILL_USERNAME') + \":\" + os.getenv('DRILL_PASSWORD')\n",
    "    drill = PyDrill(host=drill_host, port=8047, use_ssl=True, verify_certs=True, auth=auth_string)\n",
    "\n",
    "    if drill.is_active():\n",
    "        print(f'connected to: {drill_host} as user {os.getenv(\"DRILL_USERNAME\")}')\n",
    "        return drill\n",
    "\n",
    "    print(\"Did you place the .env file in the current folder? double-check file contents.\")\n",
    "    return None"
   ]
  },
  {
   "cell_type": "code",
   "execution_count": 3,
   "id": "8c576eb0-1ea8-4be7-b5d0-f831316a0f15",
   "metadata": {},
   "outputs": [
    {
     "data": {
      "text/plain": [
       "True"
      ]
     },
     "execution_count": 3,
     "metadata": {},
     "output_type": "execute_result"
    }
   ],
   "source": [
    "load_dotenv()"
   ]
  },
  {
   "cell_type": "code",
   "execution_count": 4,
   "id": "659553da-771c-4fd0-a086-e0b4a3bb60c1",
   "metadata": {},
   "outputs": [
    {
     "name": "stdout",
     "output_type": "stream",
     "text": [
      "bda1_mr8631s\n",
      "qDZ7mEZ_XxgVBrNyS\n",
      "earth.bigdata.fh-aachen.de\n"
     ]
    }
   ],
   "source": [
    "print(os.getenv('DRILL_USERNAME'))\n",
    "print(os.getenv('DRILL_PASSWORD'))\n",
    "print(os.getenv('DRILL_HOSTNAME'))"
   ]
  },
  {
   "cell_type": "code",
   "execution_count": 5,
   "id": "430dccd1-1fdd-4a71-9838-8532d2141b8a",
   "metadata": {},
   "outputs": [
    {
     "name": "stdout",
     "output_type": "stream",
     "text": [
      "connected to: earth.bigdata.fh-aachen.de as user bda1_mr8631s\n"
     ]
    }
   ],
   "source": [
    "drill = connect(os.getenv('DRILL_HOSTNAME',''))"
   ]
  },
  {
   "cell_type": "markdown",
   "id": "2cba46f2-1123-4e06-9769-c2294d406605",
   "metadata": {},
   "source": [
    "# Aufgabe a)\n",
    "Datenbank/Schema wählen"
   ]
  },
  {
   "cell_type": "markdown",
   "id": "fb3deee0-3969-4778-a2a5-229c3dd6c85a",
   "metadata": {},
   "source": [
    "\"show databases/schema;\" um alle zu sehen"
   ]
  },
  {
   "cell_type": "code",
   "execution_count": 34,
   "id": "52c54b68-25c0-4082-b3df-6430d9ee2c07",
   "metadata": {},
   "outputs": [],
   "source": [
    "result = drill.query('''use dfs.data''')\n",
    "#pprint(result.__dict__)"
   ]
  },
  {
   "cell_type": "markdown",
   "id": "b9599cb6-b3ad-43db-b88e-5370f8181e62",
   "metadata": {},
   "source": [
    "show files; um Dateien zu sehen => test.tsv wählen <br>\n",
    "spalten mit columns[x] anwählbar"
   ]
  },
  {
   "cell_type": "code",
   "execution_count": 7,
   "id": "703f5f83-5b14-4149-9433-d08ad9afba57",
   "metadata": {},
   "outputs": [],
   "source": [
    "result = drill.query('''show files''')\n",
    "#pprint(result.__dict__)"
   ]
  },
  {
   "cell_type": "markdown",
   "id": "d41c37f2-6dcc-454b-b3a3-6fc984957cd1",
   "metadata": {},
   "source": [
    "Zeige Spaltennamen"
   ]
  },
  {
   "cell_type": "code",
   "execution_count": 8,
   "id": "0ca36d91-dccb-4210-8d9e-8ed24a7f8fc0",
   "metadata": {},
   "outputs": [
    {
     "name": "stdout",
     "output_type": "stream",
     "text": [
      "{'columns': ['measurement_count', 'serial_number', 'version', 'co2_ppm', 'temperature_celsius', 'relative_humidity_percent', 'timestamp']}\n"
     ]
    }
   ],
   "source": [
    "result = drill.query('''select * from `co2data.tsv` limit 1''')\n",
    "for x in result:\n",
    "    print(x)"
   ]
  },
  {
   "cell_type": "markdown",
   "id": "43d6d9bb-55f9-46b7-953a-7bd5e4190d09",
   "metadata": {},
   "source": [
    "a1) Wieviele verschiedene Sensoren (angegeben im Feld serial number\n",
    ") enhält\n",
    "die Datenmenge?"
   ]
  },
  {
   "cell_type": "code",
   "execution_count": 9,
   "id": "5b702997-c93e-49de-9dd5-0d404be1ea32",
   "metadata": {},
   "outputs": [
    {
     "name": "stdout",
     "output_type": "stream",
     "text": [
      "{'sensoren': 23}\n"
     ]
    }
   ],
   "source": [
    "result = drill.query('''select count(distinct columns[1]) as sensoren from `co2data.tsv`''')\n",
    "for x in result:\n",
    "    print(x)"
   ]
  },
  {
   "cell_type": "markdown",
   "id": "cd551ce0-a377-47d1-81d8-700b176bb139",
   "metadata": {},
   "source": [
    "a2) Wieviele Datenpunkte je Sensor liegen vor?"
   ]
  },
  {
   "cell_type": "code",
   "execution_count": 10,
   "id": "2af169a6-9b92-48ac-984e-cc0eb83e4175",
   "metadata": {},
   "outputs": [
    {
     "name": "stdout",
     "output_type": "stream",
     "text": [
      "{'sensor': 's_8caab57c3e19_', 'datapunkte': 1}\n",
      "{'sensor': 'serial_number', 'datapunkte': 1}\n",
      "{'sensor': 's_d8bfc0147061_', 'datapunkte': 1}\n",
      "{'sensor': 's_3c6105d3abae_', 'datapunkte': 2}\n",
      "{'sensor': 's_10521c01cf19_', 'datapunkte': 2}\n",
      "{'sensor': 's_e8db84c5f771_', 'datapunkte': 2}\n",
      "{'sensor': 's_8caab57a6dd9_', 'datapunkte': 6}\n",
      "{'sensor': 's_8caab57cc961_', 'datapunkte': 7}\n",
      "{'sensor': 's_8caab57a6dd9', 'datapunkte': 11}\n",
      "{'sensor': 's_e8db84c5f33d_', 'datapunkte': 13}\n",
      "{'sensor': 's_8caab57a6dd9_0xdeadbeef', 'datapunkte': 49}\n",
      "{'sensor': 's_e8db84c5f33d', 'datapunkte': 83}\n",
      "{'sensor': 's_e8db84c5f33d_0xdeadbeef', 'datapunkte': 1515}\n",
      "{'sensor': 's_10521c0202ab_284839', 'datapunkte': 2064}\n",
      "{'sensor': 's_10521c01cf19_262520', 'datapunkte': 385103}\n",
      "{'sensor': 's_d8bfc0147061_283903', 'datapunkte': 578456}\n",
      "{'sensor': 's_8caab57cc961_284337', 'datapunkte': 1131861}\n",
      "{'sensor': 's_3c6105d3abae_299589', 'datapunkte': 1533917}\n",
      "{'sensor': 's_8caab57c3e19_282028', 'datapunkte': 1561045}\n",
      "{'sensor': 's_e8db84c5f771_300390', 'datapunkte': 1665528}\n",
      "{'sensor': 's_d8bfc014724e_262793', 'datapunkte': 2103522}\n",
      "{'sensor': 's_e8db84c5f33d_281913', 'datapunkte': 2269085}\n",
      "{'sensor': 's_8caab57a6dd9_288065', 'datapunkte': 2781611}\n"
     ]
    }
   ],
   "source": [
    "result = drill.query('''select distinct(columns[1]) as sensor, count(columns[3]) as datapunkte from `co2data.tsv` group by columns[1] order by datapunkte asc ''',30)\n",
    "for x in result:\n",
    "    print(x)"
   ]
  },
  {
   "cell_type": "markdown",
   "id": "326eadd8-b15b-407b-8f04-87b7a7e25583",
   "metadata": {},
   "source": [
    "a3) Was ist der höchste, und was der niedrigste Temperaturwert?\n"
   ]
  },
  {
   "cell_type": "code",
   "execution_count": 11,
   "id": "97d051fc-e2d8-489c-86f1-b1b7628ca59d",
   "metadata": {},
   "outputs": [
    {
     "name": "stdout",
     "output_type": "stream",
     "text": [
      "{'temp_max': 36.0, 'temp_min': -1.0}\n"
     ]
    }
   ],
   "source": [
    "result = drill.query('''select max(cast(columns[4] as decimal(100,2))) as temp_max , min(cast(columns[4] as decimal(100,2))) as temp_min  from `co2data.tsv` where isnumeric(columns[4]) = 1''',20)\n",
    "for x in result:\n",
    "    print(x)"
   ]
  },
  {
   "cell_type": "markdown",
   "id": "55ce1a45-ca8d-4a4d-a86d-39e876394867",
   "metadata": {},
   "source": [
    "a4) Was ist der durchschnittliche Co2-Wert (co2 ppm) je Sensor? (falls der\n",
    "Sensor Co2-Werte liefert)\n"
   ]
  },
  {
   "cell_type": "code",
   "execution_count": 44,
   "id": "d1e8e3b3-6c6b-45fd-8fad-920c35c6cf56",
   "metadata": {},
   "outputs": [
    {
     "name": "stdout",
     "output_type": "stream",
     "text": [
      "{'sensor': 's_e8db84c5f33d', 'avg_co2': 1403.228916}\n",
      "{'sensor': 's_8caab57a6dd9_', 'avg_co2': 983.666667}\n",
      "{'sensor': 's_e8db84c5f771_300390', 'avg_co2': 954.087763}\n",
      "{'sensor': 's_8caab57c3e19_282028', 'avg_co2': 876.931584}\n",
      "{'sensor': 's_e8db84c5f771_', 'avg_co2': 863.0}\n",
      "{'sensor': 's_3c6105d3abae_299589', 'avg_co2': 833.976671}\n",
      "{'sensor': 's_3c6105d3abae_', 'avg_co2': 832.0}\n",
      "{'sensor': 's_d8bfc014724e_262793', 'avg_co2': 770.455495}\n",
      "{'sensor': 's_d8bfc0147061_', 'avg_co2': 722.0}\n",
      "{'sensor': 's_8caab57a6dd9_288065', 'avg_co2': 654.238816}\n",
      "{'sensor': 's_d8bfc0147061_283903', 'avg_co2': 628.633917}\n",
      "{'sensor': 's_8caab57c3e19_', 'avg_co2': 620.0}\n",
      "{'sensor': 's_e8db84c5f33d_281913', 'avg_co2': 531.210462}\n",
      "{'sensor': 's_10521c01cf19_262520', 'avg_co2': 500.677816}\n",
      "{'sensor': 's_e8db84c5f33d_', 'avg_co2': 488.769231}\n",
      "{'sensor': 's_8caab57cc961_284337', 'avg_co2': 470.793016}\n",
      "{'sensor': 's_10521c01cf19_', 'avg_co2': 467.5}\n",
      "{'sensor': 's_10521c0202ab_284839', 'avg_co2': 436.763566}\n",
      "{'sensor': 's_8caab57cc961_', 'avg_co2': 429.285714}\n",
      "{'sensor': 's_e8db84c5f33d_0xdeadbeef', 'avg_co2': -1.0}\n",
      "{'sensor': 's_8caab57a6dd9_0xdeadbeef', 'avg_co2': -1.0}\n"
     ]
    }
   ],
   "source": [
    "result = drill.query('''select columns[1] as sensor, avg(cast(columns[3] as decimal(100,2))) as avg_co2 from `co2data.tsv` where isnumeric(columns[3] ) = 1 group by sensor order by avg_co2 desc ''',20)\n",
    "for x in result:\n",
    "    print(x)"
   ]
  },
  {
   "cell_type": "markdown",
   "id": "01f1d724-1265-42a2-8c75-027a8cd84332",
   "metadata": {},
   "source": [
    "a5) Wieviele Datenpunkte mit fehlenden Co2-Werten liegen vor?<br>\n",
    " 1. Nur null Werte <br>\n",
    " 2. -1 und null"
   ]
  },
  {
   "cell_type": "code",
   "execution_count": 13,
   "id": "e19b11cd-ca5a-4c84-8ca9-fa55ee4bd0de",
   "metadata": {},
   "outputs": [
    {
     "name": "stdout",
     "output_type": "stream",
     "text": [
      "{'ungültig_null': 19}\n"
     ]
    }
   ],
   "source": [
    "result = drill.query('''select count(columns[3]) as ungültig_null from `co2data.tsv` where columns[3] like 'null' ''', 30)\n",
    "for x in result:\n",
    "    print(x)"
   ]
  },
  {
   "cell_type": "code",
   "execution_count": 14,
   "id": "e7c69bb6-ae5a-4cb3-bb9c-3cae121dc49a",
   "metadata": {},
   "outputs": [
    {
     "name": "stdout",
     "output_type": "stream",
     "text": [
      "{'ungültig_ganz': 1583}\n"
     ]
    }
   ],
   "source": [
    "result = drill.query('''select count(columns[3]) as ungültig_ganz from `co2data.tsv` where columns[3] like 'null' or columns[3] like '-1' ''', 30)\n",
    "for x in result:\n",
    "    print(x)"
   ]
  },
  {
   "cell_type": "markdown",
   "id": "490ac5c0-9f4e-4a96-ac18-bce92e3c68bb",
   "metadata": {},
   "source": [
    "# Aufgabe b) \n",
    "bereiten Sie per SELECT Query die Werte in einzelnen Spalten so vor, dass\n",
    "sie sinnvolle Datentypen aufweisen"
   ]
  },
  {
   "cell_type": "markdown",
   "id": "24e5fd84-73fb-45ac-974c-ad2ff36ec872",
   "metadata": {},
   "source": [
    "b1)  Sowohl relative humidity percent, temperature celsius als auch co2 ppm sollen als auf zwei Nachkommastellen gerundete Fließkommazahlen verfügbar sein.<br>\n",
    "SQL kennt standardmäßig die Methode CAST und Drill bietet darüberhinaus CONVERT TO und CONVERT FROM an. Sie können darüber in der Dokumentation lesen.\n",
    "Nutzen Sie einen geeigneten Weg.<br><br>Ausgabe von co2:"
   ]
  },
  {
   "cell_type": "code",
   "execution_count": 15,
   "id": "03f01e32-e5d8-4f8e-94c3-6a8987a18e4e",
   "metadata": {},
   "outputs": [
    {
     "name": "stdout",
     "output_type": "stream",
     "text": [
      "{'co2ppm': 420.0}\n",
      "{'co2ppm': 421.0}\n",
      "{'co2ppm': 420.0}\n"
     ]
    }
   ],
   "source": [
    "result = drill.query('''select cast(columns[3] as decimal(128,2)) as co2ppm from `co2data.tsv` where isnumeric(columns[3]) = 1 limit 3 ''', 30)\n",
    "for x in result:\n",
    "    print(x)\n",
    "    "
   ]
  },
  {
   "cell_type": "markdown",
   "id": "b24473be-73d4-46a7-9d2e-39a50cead94d",
   "metadata": {},
   "source": [
    "Ausgabe der Temperatur:"
   ]
  },
  {
   "cell_type": "code",
   "execution_count": 16,
   "id": "cc3fa914-43fb-44bf-a4ab-46cf6859d87b",
   "metadata": {},
   "outputs": [
    {
     "name": "stdout",
     "output_type": "stream",
     "text": [
      "{'temperature': 23.0}\n",
      "{'temperature': 24.0}\n",
      "{'temperature': 24.0}\n"
     ]
    }
   ],
   "source": [
    "result = drill.query('''select cast(columns[4] as decimal(128,2)) as temperature from `co2data.tsv` where isnumeric(columns[4]) = 1 limit 3 ''', 30)\n",
    "for x in result:\n",
    "    print(x)"
   ]
  },
  {
   "cell_type": "markdown",
   "id": "6a8f5204-721d-46e8-98f3-c1bcf332a8be",
   "metadata": {},
   "source": [
    "Ausgabe der Feuchtigkeit:"
   ]
  },
  {
   "cell_type": "code",
   "execution_count": 17,
   "id": "459ccf82-e382-4c02-bdf8-d3943e2e0a89",
   "metadata": {},
   "outputs": [
    {
     "name": "stdout",
     "output_type": "stream",
     "text": [
      "{'humidity_perc': 36.0}\n",
      "{'humidity_perc': 32.0}\n",
      "{'humidity_perc': 32.0}\n"
     ]
    }
   ],
   "source": [
    "result = drill.query('''select cast(columns[5] as decimal(128,2)) as humidity_perc from `co2data.tsv` where isnumeric(columns[5]) = 1 limit 3 ''', 30)\n",
    "for x in result:\n",
    "    print(x)"
   ]
  },
  {
   "cell_type": "markdown",
   "id": "0c360d1c-d508-461c-a92e-4e0405410c23",
   "metadata": {},
   "source": [
    "b2)  Die Spalte `timestamp` gibt den Zeitstempel als Unix Epoch an. Machen\n",
    "Sie daraus einen Drill Timestamp.<br>\n",
    "Die Dokumentation von Drill bietet unter Anderem einen Hinweis auf die nützliche\n",
    "Funktion TO TIMESTAMP()."
   ]
  },
  {
   "cell_type": "code",
   "execution_count": 18,
   "id": "be39c51a-35f4-465c-a964-4a654ca5ba79",
   "metadata": {},
   "outputs": [
    {
     "name": "stdout",
     "output_type": "stream",
     "text": [
      "{'time_stamp': 1617278928000}\n",
      "{'time_stamp': 1617278936000}\n",
      "{'time_stamp': 1617278939000}\n"
     ]
    }
   ],
   "source": [
    "result = drill.query('''select to_timestamp(cast(columns[6] as int)) as time_stamp from `co2data.tsv` where isnumeric(columns[6]) = 1 limit 3 ''', 30)\n",
    "for x in result:\n",
    "    print(x)"
   ]
  },
  {
   "attachments": {
    "d1c97bd4-7298-4d87-8ef0-2a98b51ae7ca.png": {
     "image/png": "[encoded data removed]"
    }
   },
   "cell_type": "markdown",
   "id": "6d63999e-7217-4357-a1c3-66d63b5eee00",
   "metadata": {},
   "source": [
    "![grafik.png](attachment:d1c97bd4-7298-4d87-8ef0-2a98b51ae7ca.png)\n",
    "In PyDrill führt dies zu Problemen"
   ]
  },
  {
   "cell_type": "markdown",
   "id": "0bf6b8ab-6da2-4be6-b58e-8f1d9bef803a",
   "metadata": {},
   "source": [
    "# Aufgabe c)\n",
    "Uberführen Sie die zuvor erzeugte Query in eine wiederverwendbare View:"
   ]
  },
  {
   "cell_type": "markdown",
   "id": "1368f9d3-231d-4c20-96c8-13e666f56962",
   "metadata": {},
   "source": [
    "c1) Die View sollte Ihnen die Daten als benannte Spalten im gewünschten\n",
    "Datenformat anbieten und den ersten Eintrag (die alte Kopfzeile)  ̈uberspringen,\n",
    "so dass nur noch Daten zur ̈uckgegeben werden."
   ]
  },
  {
   "attachments": {
    "fde209ab-5420-4a4d-a6f1-a957d5e7867a.png": {
     "image/png": "[encoded data removed]"
    }
   },
   "cell_type": "markdown",
   "id": "1da2618a-3a60-4563-919f-d143f4442462",
   "metadata": {},
   "source": [
    "![grafik.png](attachment:fde209ab-5420-4a4d-a6f1-a957d5e7867a.png)"
   ]
  },
  {
   "cell_type": "markdown",
   "id": "850e00b0-ebaa-4217-a2c2-f5951dbefd70",
   "metadata": {},
   "source": [
    "c2) Die View muss unter dem Pfad dfs.tmp.`co2 view <drill-username>`\n",
    "abgelegt werden. Prüfen Sie, ob die View tats ̈achlich funktioniert und\n",
    "korrigieren Sie sie falls nötig.<br>\n",
    "Der ‘tmp‘ Workspace ist schreibbar für Sie, nutzen Sie das jedoch nur für CREATE\n",
    "VIEW Statements. Der Drill-Username ist der Ihnen per E-Mail zugeteilte. Beispiel:\n",
    "dfs.tmp.`co2 view ab1337s"
   ]
  },
  {
   "cell_type": "code",
   "execution_count": 29,
   "id": "00f7611f-fd75-4ba6-84d8-d46e912a337b",
   "metadata": {},
   "outputs": [
    {
     "name": "stdout",
     "output_type": "stream",
     "text": [
      "{'sensor': 's_d8bfc014724e_262793', 'co2ppm': 420.0, 'tmp': 23.0, 'humidity_perc': 36.0, 'time_stamp': 1617278928000}\n"
     ]
    }
   ],
   "source": [
    "result = drill.query('''select * from dfs.tmp.`co2d_view_<bda1_mr8631s>` limit 1''')\n",
    "for x in result:\n",
    "    print(x)"
   ]
  },
  {
   "cell_type": "markdown",
   "id": "69a42df1-557b-4a82-96ba-e28a8410badf",
   "metadata": {},
   "source": [
    "c3) Demonstrieren Sie die Nutzung Ihrer View, indem Sie die 5 wärmsten\n",
    "Zeitpunkte (Temperatur, Zeitpunkt und Sensor) jedes Sensors ausgeben."
   ]
  },
  {
   "cell_type": "code",
   "execution_count": 45,
   "id": "09e547b1-236d-4bcc-84b5-74ee8751a43a",
   "metadata": {},
   "outputs": [],
   "source": [
    "result = drill.query('''select row_number() from `co2data.tsv` limit 1''', 50)\n",
    "for x in result:\n",
    "    print(x)"
   ]
  },
  {
   "cell_type": "code",
   "execution_count": null,
   "id": "8cd9fb81-5748-448f-b9d8-0a0205535f2e",
   "metadata": {},
   "outputs": [],
   "source": []
  }
 ],
 "metadata": {
  "kernelspec": {
   "display_name": "Python 3 (ipykernel)",
   "language": "python",
   "name": "python3"
  },
  "language_info": {
   "codemirror_mode": {
    "name": "ipython",
    "version": 3
   },
   "file_extension": ".py",
   "mimetype": "text/x-python",
   "name": "python",
   "nbconvert_exporter": "python",
   "pygments_lexer": "ipython3",
   "version": "3.9.6"
  }
 },
 "nbformat": 4,
 "nbformat_minor": 5
}
