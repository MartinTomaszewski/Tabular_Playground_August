{
 "cells": [
  {
   "cell_type": "code",
   "execution_count": 205,
   "metadata": {
    "collapsed": true
   },
   "outputs": [],
   "source": [
    "#import Block\n",
    "#import csv\n",
    "import pandas as pd\n",
    "import functools as ft\n",
    "from collections import Counter\n",
    "from matplotlib import pyplot as plt"
   ]
  },
  {
   "cell_type": "code",
   "execution_count": 207,
   "outputs": [],
   "source": [
    "#CSV Datei einlesen. Da alle Werte in einer Box sind hier noch mittels split eine Liste der Werte erzeugen\n",
    "\n",
    "data2 = pd.read_csv('P.csv')\n",
    "data_list = data2.columns[0].split(\";\")"
   ],
   "metadata": {
    "collapsed": false,
    "pycharm": {
     "name": "#%%\n"
    }
   }
  },
  {
   "cell_type": "code",
   "execution_count": 210,
   "outputs": [],
   "source": [
    "#Vorbereitung von Listen. cleanData sind die Werte in reiner int Form und pairs Dopplung enthält alle Werte mit einer 1 gekoppelt\n",
    "#Das sort ist nicht notwendig hat aber die Arbeit mit dem Debugger am Punkt mit reduce() erleichtert\n",
    "\n",
    "cleanData = list(map (zahlenKontrolle, data_list ))\n",
    "cleanData.sort()\n",
    "pairsDopplung = list(map(lambda n : [n,1],cleanData))\n",
    "\n"
   ],
   "metadata": {
    "collapsed": false,
    "pycharm": {
     "name": "#%%\n"
    }
   }
  },
  {
   "cell_type": "code",
   "execution_count": 211,
   "outputs": [],
   "source": [
    "#print(pairsDopplung)"
   ],
   "metadata": {
    "collapsed": false,
    "pycharm": {
     "name": "#%%\n"
    }
   }
  },
  {
   "cell_type": "code",
   "execution_count": 212,
   "outputs": [],
   "source": [
    "# Methode, die die Liste mit den pairs in ein Dictionary überführt\n",
    "def listenKomprimierung( dictObj:dict, listObj:list):\n",
    "    #Ist der Key vom aktuellen Listen Element bereits im Dictionary enthalten erhöhe den Value\n",
    "    if listObj[0] in dictObj.keys():\n",
    "        dictObj[listObj[0]] += 1\n",
    "    else:\n",
    "        #Ansonsten füge dem Dictionary das Pair der Liste hinzu\n",
    "        d1={listObj[0] : listObj[1]}\n",
    "        dictObj.update(d1)\n",
    "        #Gebe das Dictionary zurück um mit dem neu befülltem dict. weiterzuarbeiten\n",
    "    return dictObj\n"
   ],
   "metadata": {
    "collapsed": false,
    "pycharm": {
     "name": "#%%\n"
    }
   }
  },
  {
   "cell_type": "code",
   "execution_count": 213,
   "outputs": [
    {
     "name": "stdout",
     "output_type": "stream",
     "text": [
      "Done\n"
     ]
    }
   ],
   "source": [
    "#Reduce Methode um mit pairs ein Dictionary zu bekommen, dass keine doppelten Keys enthält\n",
    "pairs = ft.reduce(listenKomprimierung,pairsDopplung, {})\n",
    "print(\"Done\")"
   ],
   "metadata": {
    "collapsed": false,
    "pycharm": {
     "name": "#%%\n"
    }
   }
  },
  {
   "cell_type": "code",
   "execution_count": 214,
   "outputs": [
    {
     "data": {
      "text/plain": "<function matplotlib.pyplot.show(close=None, block=None)>"
     },
     "execution_count": 214,
     "metadata": {},
     "output_type": "execute_result"
    },
    {
     "data": {
      "text/plain": "<Figure size 432x288 with 1 Axes>",
      "image/png": "[encoded data removed]"
     },
     "metadata": {
      "needs_background": "light"
     },
     "output_type": "display_data"
    }
   ],
   "source": [
    "#Graph mit reduce Werten\n",
    "\n",
    "plt.bar(pairs.keys(),\n",
    "        pairs.values(),\n",
    "        1,\n",
    "        edgecolor=(0,0,0))\n",
    "plt.axis ([-500,500,0,800])\n",
    "\n",
    "plt.xticks([(-500 + i*100) for i in range(11)])\n",
    "\n",
    "plt.title(\"Big Data Praktikum Aufgabe 1\")\n",
    "plt.ylabel(\"Vorkommen der Zahl\")\n",
    "plt.xlabel(\"Die Zahlen\")\n",
    "\n",
    "plt.show"
   ],
   "metadata": {
    "collapsed": false,
    "pycharm": {
     "name": "#%%\n"
    }
   }
  },
  {
   "cell_type": "code",
   "execution_count": 215,
   "outputs": [
    {
     "name": "stdout",
     "output_type": "stream",
     "text": [
      "Counter({0: 782, -1: 436, -9: 434, 5: 434, -17: 426, -13: 424, -19: 422, -11: 421, -7: 417, 3: 416, 9: 414, -15: 411, 10: 411, 11: 408, 34: 408, -3: 407, 17: 405, 41: 405, -2: 404, -25: 402, -16: 402, -24: 401, -5: 400, 19: 399, 40: 399, 50: 399, -32: 398, 18: 397, 2: 396, 6: 396, 20: 396, 27: 396, -33: 394, -27: 394, -12: 394, 15: 393, 22: 393, 8: 392, 21: 392, 45: 392, -18: 391, 25: 391, 7: 390, 31: 390, -20: 389, 1: 388, 42: 388, -42: 387, -37: 387, 53: 387, 12: 384, 30: 384, 28: 383, -10: 382, 33: 382, -8: 381, 26: 381, -34: 380, -29: 380, -28: 379, 54: 379, -14: 378, 39: 378, 46: 378, -40: 376, 16: 376, 14: 375, 44: 375, -31: 374, 37: 373, -21: 372, 29: 372, 35: 371, -46: 370, -36: 370, 24: 370, -6: 369, -30: 366, -23: 366, 49: 366, -22: 365, 23: 363, 36: 363, -49: 362, -48: 362, -26: 362, 4: 359, -51: 358, 55: 357, 32: 355, -45: 353, -41: 353, -62: 351, 66: 350, -38: 349, -43: 348, 38: 348, 48: 348, -64: 346, -44: 346, 59: 346, -57: 345, -53: 345, -52: 345, -56: 343, 13: 342, -4: 341, 56: 341, -35: 340, -55: 339, 43: 339, -54: 337, 51: 336, -63: 334, -47: 333, 47: 331, -39: 330, -59: 328, 52: 327, 57: 325, -50: 324, 58: 322, 63: 322, -58: 320, -65: 317, 64: 317, 70: 315, -61: 314, -76: 313, 71: 313, 85: 312, -74: 311, 62: 311, -79: 310, -78: 310, -67: 310, -70: 309, 61: 307, 72: 307, 79: 307, -72: 305, -73: 304, -71: 303, -60: 303, 65: 301, 67: 301, -66: 300, 80: 299, -77: 296, -69: 296, 68: 296, -84: 295, -82: 294, -68: 294, -75: 293, 74: 293, -86: 292, 73: 292, 84: 286, 75: 284, -81: 283, -80: 283, 69: 283, 60: 282, 76: 282, 78: 282, 87: 281, -87: 280, 77: 280, 81: 276, 86: 276, -94: 273, -93: 273, 83: 273, 92: 273, 96: 273, 93: 269, 91: 268, -83: 267, 97: 266, -90: 265, -89: 260, -96: 259, -85: 259, 89: 259, -91: 258, 90: 258, -88: 257, 109: 254, -100: 251, 111: 251, -98: 249, 100: 249, 102: 249, 107: 248, 103: 246, 82: 245, -112: 241, -95: 241, 88: 241, 94: 241, 99: 241, -105: 240, -92: 240, -99: 239, -113: 238, -103: 237, -108: 234, -97: 234, 98: 232, 101: 231, -122: 230, 95: 229, -104: 225, 105: 224, -106: 221, 110: 220, 106: 219, -123: 218, 108: 217, -109: 216, 104: 214, -116: 213, 112: 212, -102: 208, 119: 205, 116: 203, 120: 203, -118: 202, -114: 201, 113: 201, 115: 201, -117: 200, -107: 200, 123: 199, -110: 198, -120: 195, -101: 193, 122: 193, -124: 192, 125: 192, -119: 191, -115: 191, 118: 191, 127: 190, -127: 189, 117: 186, 128: 184, 114: 183, 130: 183, -140: 182, 121: 182, -129: 180, -126: 180, 124: 180, -130: 178, 131: 178, -135: 175, 133: 174, -143: 173, -128: 172, 129: 172, -131: 171, 146: 171, 126: 170, -138: 169, -137: 169, -125: 169, 132: 169, -121: 166, -136: 164, -134: 162, 134: 161, -111: 160, 135: 158, 138: 158, -132: 157, 139: 155, -142: 154, 137: 154, -133: 153, -139: 152, 136: 152, -141: 151, 141: 150, 143: 150, 144: 149, -147: 141, -148: 136, 142: 135, 145: 134, 149: 133, 153: 133, 150: 131, 140: 129, 152: 128, -158: 127, -150: 126, -149: 126, -145: 126, -144: 126, 147: 125, 148: 125, 154: 125, 156: 125, 157: 123, 161: 123, -146: 122, -153: 121, 151: 121, -154: 119, -152: 118, 155: 118, -163: 115, 165: 115, -161: 113, -162: 111, -151: 110, 158: 109, -168: 108, -165: 108, 164: 107, 169: 106, -164: 103, -157: 103, 159: 103, 160: 103, 163: 103, 170: 103, 174: 103, -156: 98, -155: 98, 162: 98, -182: 96, -180: 96, -167: 96, -166: 96, -172: 95, -169: 95, -160: 94, 171: 94, -159: 93, 178: 93, 167: 92, 173: 92, 172: 91, -181: 88, -177: 88, 166: 88, 176: 88, -175: 87, 177: 87, -174: 85, -170: 85, 168: 85, -185: 84, -178: 82, -176: 82, -173: 82, -179: 81, 180: 81, 175: 80, -184: 79, 179: 79, 182: 78, -197: 77, -171: 77, -190: 74, 181: 74, 186: 74, -193: 73, -183: 73, 184: 73, -196: 72, 188: 72, -188: 71, 190: 71, -191: 68, 183: 68, 187: 66, 191: 65, -186: 64, 195: 64, -200: 63, -194: 63, 192: 63, -195: 62, 185: 62, 189: 62, 193: 62, -187: 61, 194: 61, 196: 58, 200: 58, -189: 56, -203: 55, 199: 55, -205: 54, -199: 54, 197: 54, -207: 53, 202: 53, 204: 52, -192: 51, 207: 51, 198: 50, 208: 50, -198: 49, 205: 49, 201: 48, 210: 48, 212: 48, -204: 47, -215: 46, 221: 46, -223: 45, -202: 45, -201: 45, 203: 45, -212: 44, -208: 43, -206: 43, 214: 43, -220: 42, 206: 41, 211: 41, -213: 40, 220: 40, 224: 40, 213: 39, -210: 38, 217: 38, -231: 37, -221: 37, 209: 37, 215: 37, -236: 36, -209: 36, 216: 36, 219: 36, 223: 36, -227: 35, -216: 35, 222: 35, 232: 35, -219: 34, -217: 34, -214: 34, 226: 34, -228: 33, 218: 33, -234: 32, -211: 31, -222: 29, 227: 29, -230: 28, -229: 28, -226: 28, 244: 28, -243: 27, -233: 27, -225: 27, 231: 27, 233: 27, 235: 27, -235: 26, -232: 26, -218: 26, 225: 26, 229: 26, -224: 25, 230: 25, 247: 25, 241: 24, -239: 23, 236: 23, -241: 22, -237: 22, -252: 21, -247: 21, -246: 21, -245: 21, 228: 21, 234: 21, -240: 20, 239: 20, 242: 20, 243: 20, 250: 20, -250: 19, -244: 19, -238: 19, 238: 19, 246: 19, 249: 19, 256: 19, -263: 18, -242: 18, 272: 18, -265: 17, -258: 17, 240: 17, 252: 17, 260: 17, -248: 16, 254: 16, -264: 15, -260: 15, -254: 15, 251: 15, 257: 15, 261: 15, 263: 15, 265: 15, -268: 14, -257: 14, -251: 14, 237: 14, 245: 14, 248: 14, 253: 14, 255: 14, 259: 14, -271: 13, -255: 13, -249: 13, -276: 12, -262: 12, -261: 12, -253: 12, 258: 12, 270: 12, 274: 12, 275: 12, 283: 12, -280: 11, -273: 11, 264: 11, 273: 11, -269: 10, -267: 10, 269: 10, 287: 10, 291: 10, -278: 9, -274: 9, -256: 9, 266: 9, 268: 9, 278: 9, 279: 9, 286: 9, 292: 9, 299: 9, -297: 8, -292: 8, -287: 8, -275: 8, -272: 8, -270: 8, 267: 8, 284: 8, -299: 7, -296: 7, -285: 7, -259: 7, 290: 7, 294: 7, -304: 6, -295: 6, -288: 6, -286: 6, -283: 6, -279: 6, 271: 6, 285: 6, 301: 6, 306: 6, 316: 6, -316: 5, -315: 5, -309: 5, -298: 5, -294: 5, -293: 5, -282: 5, 262: 5, 280: 5, 281: 5, 282: 5, 289: 5, 293: 5, 295: 5, 302: 5, 314: 5, 322: 5, -320: 4, -311: 4, -308: 4, -290: 4, -289: 4, -284: 4, -281: 4, -266: 4, 296: 4, 304: 4, 310: 4, 313: 4, 329: 4, 331: 4, -365: 3, -353: 3, -339: 3, -337: 3, -325: 3, -317: 3, -314: 3, -305: 3, -302: 3, -301: 3, -300: 3, -291: 3, -277: 3, 276: 3, 277: 3, 297: 3, 298: 3, 303: 3, 308: 3, 311: 3, 312: 3, 319: 3, 320: 3, 321: 3, 327: 3, -396: 2, -355: 2, -348: 2, -345: 2, -342: 2, -335: 2, -333: 2, -331: 2, -329: 2, -326: 2, -323: 2, -319: 2, -318: 2, -313: 2, -312: 2, -310: 2, -307: 2, -306: 2, -303: 2, 288: 2, 300: 2, 307: 2, 309: 2, 315: 2, 318: 2, 323: 2, 325: 2, 332: 2, 334: 2, 335: 2, 338: 2, 339: 2, 344: 2, 346: 2, 354: 2, 361: 2, 364: 2, 375: 2, 378: 2, 390: 2, -463: 1, -393: 1, -392: 1, -383: 1, -380: 1, -378: 1, -377: 1, -374: 1, -373: 1, -368: 1, -367: 1, -362: 1, -361: 1, -360: 1, -352: 1, -351: 1, -350: 1, -346: 1, -336: 1, -330: 1, -327: 1, -324: 1, -321: 1, 305: 1, 326: 1, 328: 1, 330: 1, 333: 1, 337: 1, 340: 1, 341: 1, 342: 1, 345: 1, 347: 1, 349: 1, 351: 1, 358: 1, 362: 1, 363: 1, 366: 1, 367: 1, 368: 1, 369: 1, 370: 1, 374: 1, 383: 1, 385: 1, 388: 1, 400: 1, 408: 1, 476: 1})\n"
     ]
    }
   ],
   "source": [
    "#Erste Variante mit Counter gemacht um zu sehen, wie das Ergebnis ausschauen soll um Fehler zu sehen\n",
    "testDict = Counter(cleanData)\n",
    "print(testDict)"
   ],
   "metadata": {
    "collapsed": false,
    "pycharm": {
     "name": "#%%\n"
    }
   }
  },
  {
   "cell_type": "code",
   "execution_count": 216,
   "outputs": [
    {
     "data": {
      "text/plain": "<function matplotlib.pyplot.show(close=None, block=None)>"
     },
     "execution_count": 216,
     "metadata": {},
     "output_type": "execute_result"
    },
    {
     "data": {
      "text/plain": "<Figure size 432x288 with 1 Axes>",
      "image/png": "[encoded data removed]"
     },
     "metadata": {
      "needs_background": "light"
     },
     "output_type": "display_data"
    }
   ],
   "source": [
    "plt.bar(testDict.keys(),\n",
    "            testDict.values(),\n",
    "            1,\n",
    "            edgecolor=(0,0,0))\n",
    "plt.axis ([-500,500,0,800])\n",
    "\n",
    "plt.xticks([(-500 + i*100) for i in range(11)])\n",
    "\n",
    "plt.title(\"Big Data Praktikum Aufgabe 1\")\n",
    "plt.ylabel(\"Vorkommen der Zahl\")\n",
    "plt.xlabel(\"Die Zahlen\")\n",
    "\n",
    "plt.show"
   ],
   "metadata": {
    "collapsed": false,
    "pycharm": {
     "name": "#%%\n"
    }
   }
  }
 ],
 "metadata": {
  "kernelspec": {
   "display_name": "Python 3",
   "language": "python",
   "name": "python3"
  },
  "language_info": {
   "codemirror_mode": {
    "name": "ipython",
    "version": 2
   },
   "file_extension": ".py",
   "mimetype": "text/x-python",
   "name": "python",
   "nbconvert_exporter": "python",
   "pygments_lexer": "ipython2",
   "version": "2.7.6"
  }
 },
 "nbformat": 4,
 "nbformat_minor": 0
}